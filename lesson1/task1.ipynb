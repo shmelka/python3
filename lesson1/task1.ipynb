{
 "cells": [
  {
   "cell_type": "markdown",
   "metadata": {},
   "source": [
    "# Посмотреть документацию к API GitHub, разобраться как вывести список репозиториев для конкретного пользователя, сохранить JSON-вывод в файле *.json."
   ]
  },
  {
   "cell_type": "code",
   "execution_count": 57,
   "metadata": {},
   "outputs": [],
   "source": [
    "import requests\n",
    "import json\n",
    "from pprint import pprint"
   ]
  },
  {
   "cell_type": "code",
   "execution_count": 58,
   "metadata": {},
   "outputs": [],
   "source": [
    "api_host = 'https://api.github.com/'"
   ]
  },
  {
   "cell_type": "code",
   "execution_count": 59,
   "metadata": {},
   "outputs": [
    {
     "name": "stdout",
     "output_type": "stream",
     "text": [
      "Введите логин пользователя на github: shmelka\n"
     ]
    }
   ],
   "source": [
    "user_login = input('Введите логин пользователя на github: ')"
   ]
  },
  {
   "cell_type": "code",
   "execution_count": 60,
   "metadata": {},
   "outputs": [],
   "source": [
    "api_url = api_host + 'users/' + user_login + '/repos'"
   ]
  },
  {
   "cell_type": "code",
   "execution_count": 61,
   "metadata": {},
   "outputs": [
    {
     "name": "stdout",
     "output_type": "stream",
     "text": [
      "Данные пользователя shmelka сохранены в файл: shmelka.json\n"
     ]
    }
   ],
   "source": [
    "response = requests.get(api_url)\n",
    "if response.ok:\n",
    "    data = json.loads(response.text)\n",
    "    file_name = user_login + '.json'\n",
    "    with open(file_name, 'w') as f:\n",
    "        json.dump(data, f)\n",
    "    print(f'Данные пользователя {user_login} сохранены в файл: {file_name}')\n",
    "else:\n",
    "    print(f'Пользователь {user_login} не найден!!!')"
   ]
  }
 ],
 "metadata": {
  "kernelspec": {
   "display_name": "Python 3",
   "language": "python",
   "name": "python3"
  },
  "language_info": {
   "codemirror_mode": {
    "name": "ipython",
    "version": 3
   },
   "file_extension": ".py",
   "mimetype": "text/x-python",
   "name": "python",
   "nbconvert_exporter": "python",
   "pygments_lexer": "ipython3",
   "version": "3.7.3"
  }
 },
 "nbformat": 4,
 "nbformat_minor": 4
}
