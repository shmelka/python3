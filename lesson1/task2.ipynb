{
 "cells": [
  {
   "cell_type": "markdown",
   "metadata": {},
   "source": [
    "# Изучить список открытых API. Найти среди них любое, требующее авторизацию (любого типа). Выполнить запросы к нему, пройдя авторизацию. Ответ сервера записать в файл."
   ]
  },
  {
   "cell_type": "code",
   "execution_count": 3,
   "metadata": {},
   "outputs": [],
   "source": [
    "import requests\n",
    "import json\n",
    "from pprint import pprint"
   ]
  },
  {
   "cell_type": "code",
   "execution_count": 4,
   "metadata": {},
   "outputs": [],
   "source": [
    "api_url = 'https://api.vimeo.com'\n",
    "token = '85b6540170c7a5e7799b2fe8c69d6067'\n",
    "params = {'access_token': token}"
   ]
  },
  {
   "cell_type": "code",
   "execution_count": 5,
   "metadata": {},
   "outputs": [
    {
     "name": "stdout",
     "output_type": "stream",
     "text": [
      "Данные сохранены\n"
     ]
    }
   ],
   "source": [
    "response = requests.get(api_url, params=params)\n",
    "if response.ok:\n",
    "    data = json.loads(response.text)\n",
    "    file_name = 'endpoints.json'\n",
    "    with open(file_name, 'w') as f:\n",
    "        json.dump(data, f)\n",
    "        \n",
    "print(f'Данные сохранены')"
   ]
  },
  {
   "cell_type": "code",
   "execution_count": 6,
   "metadata": {},
   "outputs": [
    {
     "name": "stdout",
     "output_type": "stream",
     "text": [
      "Данные сохранены\n"
     ]
    }
   ],
   "source": [
    "response = requests.get(api_url + '/categories', params=params)\n",
    "if response.ok:\n",
    "    data = json.loads(response.text)\n",
    "    file_name = 'categories.json'\n",
    "    with open(file_name, 'w') as f:\n",
    "        json.dump(data, f)\n",
    "        \n",
    "print(f'Данные сохранены')"
   ]
  }
 ],
 "metadata": {
  "kernelspec": {
   "display_name": "Python 3",
   "language": "python",
   "name": "python3"
  },
  "language_info": {
   "codemirror_mode": {
    "name": "ipython",
    "version": 3
   },
   "file_extension": ".py",
   "mimetype": "text/x-python",
   "name": "python",
   "nbconvert_exporter": "python",
   "pygments_lexer": "ipython3",
   "version": "3.7.3"
  }
 },
 "nbformat": 4,
 "nbformat_minor": 4
}
